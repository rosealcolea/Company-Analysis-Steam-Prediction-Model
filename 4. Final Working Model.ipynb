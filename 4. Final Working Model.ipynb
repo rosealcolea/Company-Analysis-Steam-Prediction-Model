{
 "cells": [
  {
   "cell_type": "markdown",
   "metadata": {},
   "source": [
    "![logo](./images/OPTIMISE.%20Logo%20(green).png)"
   ]
  },
  {
   "cell_type": "markdown",
   "metadata": {},
   "source": [
    "In this project I role play as a BI consultant from Optimise. using Steam as my client. I provide a full sales analysis & a sales prediction model based on key game features.\n",
    "\n",
    "This is Notebook 4 out of 4 of this project."
   ]
  },
  {
   "cell_type": "markdown",
   "metadata": {},
   "source": [
    "# Optimise.\n",
    "BUSINESS INTELLIGENCE SOLUTIONS"
   ]
  },
  {
   "cell_type": "markdown",
   "metadata": {},
   "source": [
    "Optimise. uses data analysis to provide businesses a vision of their present operations and provides them with actionable advise based on meticulous analysis that produces tangible results.   \n",
    "\n",
    "The analysis focuses on these main areas:     \n",
    "- Product Analysis\n",
    "    - Performance\n",
    "    - Classification\n",
    "    - Pricing\n",
    "- Customer Analysis\n",
    "    - Customer Profile\n",
    "    - Customer Trends\n",
    "    - Customer Lifetime Value\n",
    "- Sales Analysis\n",
    "    - Date/Time Overview\n",
    "    - Discount Effeciency\n",
    "    - Projections\n",
    "    \n",
    "The deliverables to be expected are a comprehensive report with useful visualizations, combined with specific recommendations based on the results obtained from the analysis."
   ]
  },
  {
   "cell_type": "markdown",
   "metadata": {},
   "source": [
    "# Final Working Model\n",
    "In this Notebook I recollect the final version of the logistic model created for this project. It will predict the umber of sales of a game based on its genre, category, platform, publisher(top-tier or not), and developer (top tier or not)."
   ]
  },
  {
   "cell_type": "markdown",
   "metadata": {},
   "source": [
    "### Imports"
   ]
  },
  {
   "cell_type": "code",
   "execution_count": 1,
   "metadata": {},
   "outputs": [],
   "source": [
    "import pandas as pd\n",
    "import numpy as np\n",
    "import seaborn as sns\n",
    "import scipy.stats as sp\n",
    "from sklearn.linear_model import LinearRegression\n",
    "from sklearn.model_selection import train_test_split\n",
    "from sklearn.linear_model import LogisticRegression\n",
    "from sklearn.metrics import confusion_matrix, accuracy_score\n",
    "from sklearn.utils import resample\n",
    "from IPython.display import clear_output\n",
    "from sklearn import metrics\n",
    "%matplotlib inline\n",
    "import matplotlib.pyplot as plt\n",
    "from sklearn.metrics import roc_auc_score\n",
    "from sklearn.metrics import roc_curve"
   ]
  },
  {
   "cell_type": "code",
   "execution_count": 2,
   "metadata": {},
   "outputs": [],
   "source": [
    "s = pd.read_csv(\"data/steam_cols_clean.csv\")"
   ]
  },
  {
   "cell_type": "code",
   "execution_count": 3,
   "metadata": {},
   "outputs": [],
   "source": [
    "# grouping boolean columns by type\n",
    "\n",
    "platforms = ['linux', 'windows', 'mac']\n",
    "genres = ['Indie', 'Sports', 'Simulation', 'Strategy', 'Early Access', 'Casual',\n",
    "       'RPG', 'Free to Play', 'Adventure', 'Action', 'Racing']\n",
    "categories = ['Includes level editor', 'MMO', 'VR Support', 'Single-player',\n",
    "       'Controller Support', 'Online', 'Multi-Player', 'co-op', 'Local']\n",
    "tags = ['Nudity', 'Retro', 'Violent', 'Visual Novel', 'RPGMaker', 'Fighting',\n",
    "       'FPS', 'Female Protagonist', 'Board Game', 'Space', 'World War II',\n",
    "       'Platformer', 'Anime', 'Great Soundtrack', 'Massively Multiplayer',\n",
    "       'Open World', 'Sexual Content', 'Arcade', 'Gore', 'Pixel Graphics',\n",
    "       'Turn-Based', 'Music', 'Fantasy', 'Point & Click', 'Rogue-like',\n",
    "       'World War I', \"Shoot 'Em Up\", 'RTS', 'Story Rich', 'Hidden Object',\n",
    "       'Turn-Based Strategy', 'Survival', 'Match 3', 'Horror', 'Puzzle',\n",
    "       'Sci-fi', 'Tower Defense', 'VR', 'Management', '2D', 'Card Game',\n",
    "       'Multiplayer', 'Utilities', 'Shooter', 'War', 'Co-op', 'Zombies',\n",
    "       'Classic', 'Singleplayer']"
   ]
  },
  {
   "cell_type": "markdown",
   "metadata": {},
   "source": [
    "#### Developer & Publisher Adjustments"
   ]
  },
  {
   "cell_type": "code",
   "execution_count": 4,
   "metadata": {},
   "outputs": [
    {
     "data": {
      "text/plain": [
       "1.016770875942266"
      ]
     },
     "execution_count": 4,
     "metadata": {},
     "output_type": "execute_result"
    }
   ],
   "source": [
    "dev_count = s[\"developer\"].value_counts()\n",
    "len(dev_count[dev_count>9])/len(dev_count)*100"
   ]
  },
  {
   "cell_type": "code",
   "execution_count": 5,
   "metadata": {},
   "outputs": [
    {
     "name": "stderr",
     "output_type": "stream",
     "text": [
      "C:\\ProgramData\\Anaconda3\\lib\\site-packages\\ipykernel_launcher.py:7: SettingWithCopyWarning: \n",
      "A value is trying to be set on a copy of a slice from a DataFrame\n",
      "\n",
      "See the caveats in the documentation: https://pandas.pydata.org/pandas-docs/stable/user_guide/indexing.html#returning-a-view-versus-a-copy\n",
      "  import sys\n"
     ]
    },
    {
     "data": {
      "text/plain": [
       "0    25806\n",
       "1     1269\n",
       "Name: top_developer, dtype: int64"
      ]
     },
     "execution_count": 5,
     "metadata": {},
     "output_type": "execute_result"
    }
   ],
   "source": [
    "s[\"top_developer\"] = 0\n",
    "values = dev_count[dev_count>19].index.tolist()\n",
    "\n",
    "for w in values:\n",
    "    for i in range(len(s)):\n",
    "        if w in s[\"developer\"][i]:\n",
    "            s[\"top_developer\"][i] = 1\n",
    "            \n",
    "s[\"top_developer\"].value_counts()"
   ]
  },
  {
   "cell_type": "code",
   "execution_count": 6,
   "metadata": {},
   "outputs": [
    {
     "data": {
      "text/plain": [
       "0.996237982443918"
      ]
     },
     "execution_count": 6,
     "metadata": {},
     "output_type": "execute_result"
    }
   ],
   "source": [
    "dev_count = s[\"publisher\"].value_counts()\n",
    "len(dev_count[dev_count>16])/len(dev_count)*100"
   ]
  },
  {
   "cell_type": "code",
   "execution_count": 7,
   "metadata": {},
   "outputs": [
    {
     "name": "stderr",
     "output_type": "stream",
     "text": [
      "C:\\ProgramData\\Anaconda3\\lib\\site-packages\\ipykernel_launcher.py:7: SettingWithCopyWarning: \n",
      "A value is trying to be set on a copy of a slice from a DataFrame\n",
      "\n",
      "See the caveats in the documentation: https://pandas.pydata.org/pandas-docs/stable/user_guide/indexing.html#returning-a-view-versus-a-copy\n",
      "  import sys\n"
     ]
    },
    {
     "data": {
      "text/plain": [
       "0    24622\n",
       "1     2453\n",
       "Name: top_publisher, dtype: int64"
      ]
     },
     "execution_count": 7,
     "metadata": {},
     "output_type": "execute_result"
    }
   ],
   "source": [
    "s[\"top_publisher\"] = 0\n",
    "values = dev_count[dev_count>49].index.tolist()\n",
    "\n",
    "for w in values:\n",
    "    for i in range(len(s)):\n",
    "        if w in s[\"publisher\"][i]:\n",
    "            s[\"top_publisher\"][i] = 1\n",
    "            \n",
    "s[\"top_publisher\"].value_counts()"
   ]
  },
  {
   "cell_type": "markdown",
   "metadata": {},
   "source": [
    "## Optional Data Adjustments\n",
    "I have attached in here 2 different ways of clustering the target data.\n",
    "\n",
    "1. Grouping it into 3 groups instead of 13 - it disminished the options significantly but maintains significance.\n",
    "2. Grouping it into 2 groups instead of 13 - it allows for binary model building but reduces the significance of the results considerably.\n",
    "\n",
    "The adjustments will not overwrite the original dataframe so in order to be used in the model they will either have to be assigned to the dataframe or adjust the model to retrieve data from the modified dataframe."
   ]
  },
  {
   "cell_type": "markdown",
   "metadata": {},
   "source": [
    "#### Three Target Groups"
   ]
  },
  {
   "cell_type": "code",
   "execution_count": null,
   "metadata": {},
   "outputs": [],
   "source": [
    "def reassign_owners(row):\n",
    "    a = [\"20000-50000\", \"50000-100000\", \"100000-200000\", \"200000-500000\"]\n",
    "    b = [\"500000-1000000\", \"1000000-2000000\", \"2000000-5000000\", \"5000000-10000000\", \"10000000-20000000\", \n",
    "         \"20000000-50000000\", \"50000000-100000000\", \"100000000-200000000\"]\n",
    "    if row in a:\n",
    "        row = \"20000-500000\"\n",
    "    elif row in b:\n",
    "        row = \"500000+\"\n",
    "    return row\n",
    "\n",
    "s[\"owners\"] = s[\"owners\"].apply(lambda x: reassign_owners(x))\n",
    "\n",
    "s[\"owners\"].value_counts()"
   ]
  },
  {
   "cell_type": "code",
   "execution_count": null,
   "metadata": {},
   "outputs": [],
   "source": [
    "# Deal with scaling\n",
    "majority = s[s['owners'] == \"0-20000\"]\n",
    "minority1 = s[s['owners'] == \"20000-500000\"]\n",
    "minority2 = s[s['owners'] == \"500000+\"]\n",
    " \n",
    "# Downsample majority class\n",
    "minority1_upsampled = resample(minority1, n_samples=len(majority)) #random_state=123\n",
    "minority2_upsampled = resample(minority2, n_samples=len(majority))\n",
    "\n",
    "# Combine minority class with downsampled majority class\n",
    "owners_upsampled = pd.concat([minority1_upsampled, minority2_upsampled, majority])\n",
    "\n",
    "owners_upsampled['owners'].value_counts()"
   ]
  },
  {
   "cell_type": "markdown",
   "metadata": {},
   "source": [
    "#### Two Target Groups"
   ]
  },
  {
   "cell_type": "code",
   "execution_count": null,
   "metadata": {},
   "outputs": [],
   "source": [
    "def reassign_owners_binary(row):\n",
    "    a = [\"20000-50000\", \"50000-100000\", \"100000-200000\", \"200000-500000\"]\n",
    "    b = [\"500000-1000000\", \"1000000-2000000\", \"2000000-5000000\", \"5000000-10000000\", \"10000000-20000000\", \n",
    "         \"20000000-50000000\", \"50000000-100000000\", \"100000000-200000000\"]\n",
    "    if row in a:\n",
    "        row = \"20000+\"\n",
    "    elif row in b:\n",
    "        row = \"20000+\"\n",
    "    return row\n",
    "\n",
    "s[\"owners\"] = s[\"owners\"].apply(lambda x: reassign_owners_binary(x))\n",
    "\n",
    "s[\"owners\"].value_counts()"
   ]
  },
  {
   "cell_type": "code",
   "execution_count": null,
   "metadata": {},
   "outputs": [],
   "source": [
    "# Deal with scaling\n",
    "majority = s[s['owners'] == \"0-20000\"]\n",
    "minority = s[s['owners'] == \"20000+\"]\n",
    " \n",
    "# Downsample majority class\n",
    "minority_upsampled = resample(minority, n_samples=len(majority)) #random_state=123\n",
    "\n",
    "# Combine minority class with downsampled majority class\n",
    "owners_upsampled_binary = pd.concat([minority_upsampled, majority])\n",
    "\n",
    "owners_upsampled_binary['owners'].value_counts()"
   ]
  },
  {
   "cell_type": "markdown",
   "metadata": {},
   "source": [
    "## Logistical Regression Model Foundation\n"
   ]
  },
  {
   "cell_type": "code",
   "execution_count": 8,
   "metadata": {},
   "outputs": [],
   "source": [
    "def logistic_regression_model_full(platform, genre, category, developer, publisher):\n",
    "    # Assign values x\n",
    "    x = s[s[genre]==1]\n",
    "    x = x[x[category]==1]\n",
    "    x = x[x[platform]==1]\n",
    "    if developer == \"yes\":\n",
    "        x = x[x[\"top_developer\"]==1]\n",
    "    else:\n",
    "        x = x[x[\"top_developer\"]==0]\n",
    "    if publisher == \"yes\":\n",
    "        x = x[x[\"top_publisher\"]==1]\n",
    "    else:\n",
    "        x = x[x[\"top_publisher\"]==0]\n",
    "    x.drop([\"appid\", \"name\", \"release_date\",'english', \"developer\", \"publisher\", 'required_age', 'achievements', 'positive_ratings',\n",
    "            'negative_ratings', 'average_playtime', 'median_playtime', 'owners', \"price\"], axis=1, inplace=True)\n",
    "    platforms_copy = platforms.copy()\n",
    "    platforms_copy.remove(platform)\n",
    "    x.drop(platforms_copy, axis=1, inplace=True)\n",
    "    genres_copy = genres.copy()\n",
    "    genres_copy.remove(genre)\n",
    "    x.drop(genres_copy, axis=1, inplace=True)\n",
    "    cat_copy = categories.copy()\n",
    "    cat_copy.remove(category)\n",
    "    x.drop(cat_copy, axis=1, inplace=True)\n",
    "    # Assign values y\n",
    "    y = s[s[genre]==1]\n",
    "    y = y[y[category]==1]\n",
    "    y = y[y[platform]==1]\n",
    "    if developer == \"yes\":\n",
    "        y = y[y[\"top_developer\"]==1]\n",
    "    else:\n",
    "        y = y[y[\"top_developer\"]==0]\n",
    "    if publisher == \"yes\":\n",
    "        y = y[y[\"top_publisher\"]==1]\n",
    "    else:\n",
    "        y = y[y[\"top_publisher\"]==0]\n",
    "    y = y[\"owners\"]\n",
    "    # Split the data\n",
    "    X_train, X_test, y_train, y_test = train_test_split(x, y, test_size=0.2)\n",
    "    # Generate the model\n",
    "    model = LogisticRegression(max_iter=1000000).fit(X_train, y_train)\n",
    "    # Get score of the model\n",
    "    score = model.score(X_test,y_test)\n",
    "    # Predict using test data\n",
    "    y_pred = model.predict(X_test)\n",
    "    # Generate matrix\n",
    "    matrix = confusion_matrix(y_test, y_pred)\n",
    "    print(\"\\nThe expected amounts of sales for this game fall in the range\", list(sp.mode(y_pred)[0])[0])\n",
    "    print(\"With an accuracy score of\", round(score*100, 2), \"%\")\n",
    "    #Data Visualization\n",
    "    return #plt.plot(y_pred)"
   ]
  },
  {
   "cell_type": "code",
   "execution_count": 9,
   "metadata": {},
   "outputs": [],
   "source": [
    "def model_full():\n",
    "    print(\"This model will return the predicted number of sales based on key features like platform, genre, and categories.\\n\")\n",
    "    #n = input(\"How many features do you want to test?\")\n",
    "    print(\"\\nPlatforms:\", platforms, \"\\n\")\n",
    "    platform = input(\"Choose Platform:\\n\")\n",
    "    print(\"\\nGenres:\", genres, \"\\n\")\n",
    "    genre = input(\"Choose Genre:\\n\")\n",
    "    print(\"\\nCategories\", categories, \"\\n\")\n",
    "    category = input(\"Choose Category:\\n\")\n",
    "    developer = input(\"Has the developer developed 20 games or more?\")\n",
    "    publisher = input(\"Has the publisher published 50 games or more?\")\n",
    "    result = logistic_regression_model_full(platform, genre, category, developer, publisher)\n",
    "    return print(\"\\n\", result)"
   ]
  },
  {
   "cell_type": "markdown",
   "metadata": {},
   "source": [
    "# THE MODEL"
   ]
  },
  {
   "cell_type": "code",
   "execution_count": 13,
   "metadata": {},
   "outputs": [
    {
     "name": "stdout",
     "output_type": "stream",
     "text": [
      "This model will return the predicted number of sales based on key features like platform, genre, and categories.\n",
      "\n",
      "\n",
      "Platforms: ['linux', 'windows', 'mac'] \n",
      "\n",
      "Choose Platform:\n",
      "windows\n",
      "\n",
      "Genres: ['Indie', 'Sports', 'Simulation', 'Strategy', 'Early Access', 'Casual', 'RPG', 'Free to Play', 'Adventure', 'Action', 'Racing'] \n",
      "\n",
      "Choose Genre:\n",
      "RPG\n",
      "\n",
      "Categories ['Includes level editor', 'MMO', 'VR Support', 'Single-player', 'Controller Support', 'Online', 'Multi-Player', 'co-op', 'Local'] \n",
      "\n",
      "Choose Category:\n",
      "Online\n",
      "Has the developer developed 20 games or more?no\n",
      "Has the publisher published 50 games or more?yes\n",
      "\n",
      "The expected amounts of sales for this game fall in the range 35000\n",
      "With an accuracy score of 0.0 %\n",
      "\n",
      " None\n"
     ]
    }
   ],
   "source": [
    "model_full()"
   ]
  }
 ],
 "metadata": {
  "kernelspec": {
   "display_name": "Python 3",
   "language": "python",
   "name": "python3"
  },
  "language_info": {
   "codemirror_mode": {
    "name": "ipython",
    "version": 3
   },
   "file_extension": ".py",
   "mimetype": "text/x-python",
   "name": "python",
   "nbconvert_exporter": "python",
   "pygments_lexer": "ipython3",
   "version": "3.7.6"
  }
 },
 "nbformat": 4,
 "nbformat_minor": 4
}
